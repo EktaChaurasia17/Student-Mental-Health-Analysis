{
 "cells": [
  {
   "cell_type": "markdown",
   "id": "2e2fd33f",
   "metadata": {},
   "source": [
    "# Student Mental Health Analysis"
   ]
  },
  {
   "cell_type": "code",
   "execution_count": 2,
   "id": "bc5450f3",
   "metadata": {},
   "outputs": [],
   "source": [
    "import numpy as np\n",
    "import pandas as pd\n",
    "import matplotlib.pyplot as plt\n",
    "import seaborn as sns\n",
    "import os"
   ]
  },
  {
   "cell_type": "code",
   "execution_count": 3,
   "id": "ed3dc2d7",
   "metadata": {},
   "outputs": [],
   "source": [
    "os.chdir(r\"C:\\Users\\EKTA\\OneDrive\\Desktop\\port folio projects\\Python_Port_Folio_Projects\")"
   ]
  },
  {
   "cell_type": "code",
   "execution_count": 4,
   "id": "acdb1758",
   "metadata": {},
   "outputs": [],
   "source": [
    "stu_df = pd.read_csv(\"Student Mental health.csv\")"
   ]
  },
  {
   "cell_type": "code",
   "execution_count": 5,
   "id": "7200b59f",
   "metadata": {},
   "outputs": [
    {
     "data": {
      "text/html": [
       "<div>\n",
       "<style scoped>\n",
       "    .dataframe tbody tr th:only-of-type {\n",
       "        vertical-align: middle;\n",
       "    }\n",
       "\n",
       "    .dataframe tbody tr th {\n",
       "        vertical-align: top;\n",
       "    }\n",
       "\n",
       "    .dataframe thead th {\n",
       "        text-align: right;\n",
       "    }\n",
       "</style>\n",
       "<table border=\"1\" class=\"dataframe\">\n",
       "  <thead>\n",
       "    <tr style=\"text-align: right;\">\n",
       "      <th></th>\n",
       "      <th>Timestamp</th>\n",
       "      <th>Choose your gender</th>\n",
       "      <th>Age</th>\n",
       "      <th>What is your course?</th>\n",
       "      <th>Your current year of Study</th>\n",
       "      <th>What is your CGPA?</th>\n",
       "      <th>Marital status</th>\n",
       "      <th>Do you have Depression?</th>\n",
       "      <th>Do you have Anxiety?</th>\n",
       "      <th>Do you have Panic attack?</th>\n",
       "      <th>Did you seek any specialist for a treatment?</th>\n",
       "    </tr>\n",
       "  </thead>\n",
       "  <tbody>\n",
       "    <tr>\n",
       "      <th>0</th>\n",
       "      <td>8/7/2020 12:02</td>\n",
       "      <td>Female</td>\n",
       "      <td>18.0</td>\n",
       "      <td>Engineering</td>\n",
       "      <td>year 1</td>\n",
       "      <td>3.00 - 3.49</td>\n",
       "      <td>No</td>\n",
       "      <td>Yes</td>\n",
       "      <td>No</td>\n",
       "      <td>Yes</td>\n",
       "      <td>No</td>\n",
       "    </tr>\n",
       "    <tr>\n",
       "      <th>1</th>\n",
       "      <td>8/7/2020 12:04</td>\n",
       "      <td>Male</td>\n",
       "      <td>21.0</td>\n",
       "      <td>Islamic education</td>\n",
       "      <td>year 2</td>\n",
       "      <td>3.00 - 3.49</td>\n",
       "      <td>No</td>\n",
       "      <td>No</td>\n",
       "      <td>Yes</td>\n",
       "      <td>No</td>\n",
       "      <td>No</td>\n",
       "    </tr>\n",
       "    <tr>\n",
       "      <th>2</th>\n",
       "      <td>8/7/2020 12:05</td>\n",
       "      <td>Male</td>\n",
       "      <td>19.0</td>\n",
       "      <td>BIT</td>\n",
       "      <td>Year 1</td>\n",
       "      <td>3.00 - 3.49</td>\n",
       "      <td>No</td>\n",
       "      <td>Yes</td>\n",
       "      <td>Yes</td>\n",
       "      <td>Yes</td>\n",
       "      <td>No</td>\n",
       "    </tr>\n",
       "    <tr>\n",
       "      <th>3</th>\n",
       "      <td>8/7/2020 12:06</td>\n",
       "      <td>Female</td>\n",
       "      <td>22.0</td>\n",
       "      <td>Laws</td>\n",
       "      <td>year 3</td>\n",
       "      <td>3.00 - 3.49</td>\n",
       "      <td>Yes</td>\n",
       "      <td>Yes</td>\n",
       "      <td>No</td>\n",
       "      <td>No</td>\n",
       "      <td>No</td>\n",
       "    </tr>\n",
       "    <tr>\n",
       "      <th>4</th>\n",
       "      <td>8/7/2020 12:13</td>\n",
       "      <td>Male</td>\n",
       "      <td>23.0</td>\n",
       "      <td>Mathemathics</td>\n",
       "      <td>year 4</td>\n",
       "      <td>3.00 - 3.49</td>\n",
       "      <td>No</td>\n",
       "      <td>No</td>\n",
       "      <td>No</td>\n",
       "      <td>No</td>\n",
       "      <td>No</td>\n",
       "    </tr>\n",
       "    <tr>\n",
       "      <th>...</th>\n",
       "      <td>...</td>\n",
       "      <td>...</td>\n",
       "      <td>...</td>\n",
       "      <td>...</td>\n",
       "      <td>...</td>\n",
       "      <td>...</td>\n",
       "      <td>...</td>\n",
       "      <td>...</td>\n",
       "      <td>...</td>\n",
       "      <td>...</td>\n",
       "      <td>...</td>\n",
       "    </tr>\n",
       "    <tr>\n",
       "      <th>96</th>\n",
       "      <td>13/07/2020 19:56:49</td>\n",
       "      <td>Female</td>\n",
       "      <td>21.0</td>\n",
       "      <td>BCS</td>\n",
       "      <td>year 1</td>\n",
       "      <td>3.50 - 4.00</td>\n",
       "      <td>No</td>\n",
       "      <td>No</td>\n",
       "      <td>Yes</td>\n",
       "      <td>No</td>\n",
       "      <td>No</td>\n",
       "    </tr>\n",
       "    <tr>\n",
       "      <th>97</th>\n",
       "      <td>13/07/2020 21:21:42</td>\n",
       "      <td>Male</td>\n",
       "      <td>18.0</td>\n",
       "      <td>Engineering</td>\n",
       "      <td>Year 2</td>\n",
       "      <td>3.00 - 3.49</td>\n",
       "      <td>No</td>\n",
       "      <td>Yes</td>\n",
       "      <td>Yes</td>\n",
       "      <td>No</td>\n",
       "      <td>No</td>\n",
       "    </tr>\n",
       "    <tr>\n",
       "      <th>98</th>\n",
       "      <td>13/07/2020 21:22:56</td>\n",
       "      <td>Female</td>\n",
       "      <td>19.0</td>\n",
       "      <td>Nursing</td>\n",
       "      <td>Year 3</td>\n",
       "      <td>3.50 - 4.00</td>\n",
       "      <td>Yes</td>\n",
       "      <td>Yes</td>\n",
       "      <td>No</td>\n",
       "      <td>Yes</td>\n",
       "      <td>No</td>\n",
       "    </tr>\n",
       "    <tr>\n",
       "      <th>99</th>\n",
       "      <td>13/07/2020 21:23:57</td>\n",
       "      <td>Female</td>\n",
       "      <td>23.0</td>\n",
       "      <td>Pendidikan Islam</td>\n",
       "      <td>year 4</td>\n",
       "      <td>3.50 - 4.00</td>\n",
       "      <td>No</td>\n",
       "      <td>No</td>\n",
       "      <td>No</td>\n",
       "      <td>No</td>\n",
       "      <td>No</td>\n",
       "    </tr>\n",
       "    <tr>\n",
       "      <th>100</th>\n",
       "      <td>18/07/2020 20:16:21</td>\n",
       "      <td>Male</td>\n",
       "      <td>20.0</td>\n",
       "      <td>Biomedical science</td>\n",
       "      <td>Year 2</td>\n",
       "      <td>3.00 - 3.49</td>\n",
       "      <td>No</td>\n",
       "      <td>No</td>\n",
       "      <td>No</td>\n",
       "      <td>No</td>\n",
       "      <td>No</td>\n",
       "    </tr>\n",
       "  </tbody>\n",
       "</table>\n",
       "<p>101 rows × 11 columns</p>\n",
       "</div>"
      ],
      "text/plain": [
       "               Timestamp Choose your gender   Age What is your course?  \\\n",
       "0         8/7/2020 12:02             Female  18.0          Engineering   \n",
       "1         8/7/2020 12:04               Male  21.0    Islamic education   \n",
       "2         8/7/2020 12:05               Male  19.0                  BIT   \n",
       "3         8/7/2020 12:06             Female  22.0                 Laws   \n",
       "4         8/7/2020 12:13               Male  23.0         Mathemathics   \n",
       "..                   ...                ...   ...                  ...   \n",
       "96   13/07/2020 19:56:49             Female  21.0                  BCS   \n",
       "97   13/07/2020 21:21:42               Male  18.0          Engineering   \n",
       "98   13/07/2020 21:22:56             Female  19.0             Nursing    \n",
       "99   13/07/2020 21:23:57             Female  23.0     Pendidikan Islam   \n",
       "100  18/07/2020 20:16:21               Male  20.0   Biomedical science   \n",
       "\n",
       "    Your current year of Study What is your CGPA? Marital status  \\\n",
       "0                       year 1        3.00 - 3.49             No   \n",
       "1                       year 2        3.00 - 3.49             No   \n",
       "2                       Year 1        3.00 - 3.49             No   \n",
       "3                       year 3        3.00 - 3.49            Yes   \n",
       "4                       year 4        3.00 - 3.49             No   \n",
       "..                         ...                ...            ...   \n",
       "96                      year 1        3.50 - 4.00             No   \n",
       "97                      Year 2        3.00 - 3.49             No   \n",
       "98                      Year 3        3.50 - 4.00            Yes   \n",
       "99                      year 4        3.50 - 4.00             No   \n",
       "100                     Year 2        3.00 - 3.49             No   \n",
       "\n",
       "    Do you have Depression? Do you have Anxiety? Do you have Panic attack?  \\\n",
       "0                       Yes                   No                       Yes   \n",
       "1                        No                  Yes                        No   \n",
       "2                       Yes                  Yes                       Yes   \n",
       "3                       Yes                   No                        No   \n",
       "4                        No                   No                        No   \n",
       "..                      ...                  ...                       ...   \n",
       "96                       No                  Yes                        No   \n",
       "97                      Yes                  Yes                        No   \n",
       "98                      Yes                   No                       Yes   \n",
       "99                       No                   No                        No   \n",
       "100                      No                   No                        No   \n",
       "\n",
       "    Did you seek any specialist for a treatment?  \n",
       "0                                             No  \n",
       "1                                             No  \n",
       "2                                             No  \n",
       "3                                             No  \n",
       "4                                             No  \n",
       "..                                           ...  \n",
       "96                                            No  \n",
       "97                                            No  \n",
       "98                                            No  \n",
       "99                                            No  \n",
       "100                                           No  \n",
       "\n",
       "[101 rows x 11 columns]"
      ]
     },
     "execution_count": 5,
     "metadata": {},
     "output_type": "execute_result"
    }
   ],
   "source": [
    "stu_df"
   ]
  },
  {
   "cell_type": "code",
   "execution_count": 6,
   "id": "b4ddbb70",
   "metadata": {},
   "outputs": [
    {
     "data": {
      "text/plain": [
       "(101, 11)"
      ]
     },
     "execution_count": 6,
     "metadata": {},
     "output_type": "execute_result"
    }
   ],
   "source": [
    "stu_df.shape"
   ]
  },
  {
   "cell_type": "code",
   "execution_count": 7,
   "id": "ae84f85c",
   "metadata": {},
   "outputs": [
    {
     "data": {
      "text/plain": [
       "Timestamp                                       0\n",
       "Choose your gender                              0\n",
       "Age                                             1\n",
       "What is your course?                            0\n",
       "Your current year of Study                      0\n",
       "What is your CGPA?                              0\n",
       "Marital status                                  0\n",
       "Do you have Depression?                         0\n",
       "Do you have Anxiety?                            0\n",
       "Do you have Panic attack?                       0\n",
       "Did you seek any specialist for a treatment?    0\n",
       "dtype: int64"
      ]
     },
     "execution_count": 7,
     "metadata": {},
     "output_type": "execute_result"
    }
   ],
   "source": [
    "stu_df.isnull().sum()"
   ]
  },
  {
   "cell_type": "code",
   "execution_count": 8,
   "id": "684f6efe",
   "metadata": {},
   "outputs": [],
   "source": [
    "stu_df['Age'].fillna(stu_df['Age'].mean , inplace = True)"
   ]
  },
  {
   "cell_type": "code",
   "execution_count": 9,
   "id": "a4f61e91",
   "metadata": {},
   "outputs": [
    {
     "data": {
      "text/plain": [
       "Timestamp                                       0\n",
       "Choose your gender                              0\n",
       "Age                                             0\n",
       "What is your course?                            0\n",
       "Your current year of Study                      0\n",
       "What is your CGPA?                              0\n",
       "Marital status                                  0\n",
       "Do you have Depression?                         0\n",
       "Do you have Anxiety?                            0\n",
       "Do you have Panic attack?                       0\n",
       "Did you seek any specialist for a treatment?    0\n",
       "dtype: int64"
      ]
     },
     "execution_count": 9,
     "metadata": {},
     "output_type": "execute_result"
    }
   ],
   "source": [
    "stu_df.isnull().sum()"
   ]
  },
  {
   "cell_type": "code",
   "execution_count": 10,
   "id": "98d5d9c0",
   "metadata": {},
   "outputs": [
    {
     "name": "stdout",
     "output_type": "stream",
     "text": [
      "<class 'pandas.core.frame.DataFrame'>\n",
      "RangeIndex: 101 entries, 0 to 100\n",
      "Data columns (total 11 columns):\n",
      " #   Column                                        Non-Null Count  Dtype \n",
      "---  ------                                        --------------  ----- \n",
      " 0   Timestamp                                     101 non-null    object\n",
      " 1   Choose your gender                            101 non-null    object\n",
      " 2   Age                                           101 non-null    object\n",
      " 3   What is your course?                          101 non-null    object\n",
      " 4   Your current year of Study                    101 non-null    object\n",
      " 5   What is your CGPA?                            101 non-null    object\n",
      " 6   Marital status                                101 non-null    object\n",
      " 7   Do you have Depression?                       101 non-null    object\n",
      " 8   Do you have Anxiety?                          101 non-null    object\n",
      " 9   Do you have Panic attack?                     101 non-null    object\n",
      " 10  Did you seek any specialist for a treatment?  101 non-null    object\n",
      "dtypes: object(11)\n",
      "memory usage: 8.8+ KB\n"
     ]
    }
   ],
   "source": [
    "stu_df.info()"
   ]
  },
  {
   "cell_type": "code",
   "execution_count": 11,
   "id": "d164ad58",
   "metadata": {},
   "outputs": [
    {
     "data": {
      "text/plain": [
       "Index(['Timestamp', 'Choose your gender', 'Age', 'What is your course?',\n",
       "       'Your current year of Study', 'What is your CGPA?', 'Marital status',\n",
       "       'Do you have Depression?', 'Do you have Anxiety?',\n",
       "       'Do you have Panic attack?',\n",
       "       'Did you seek any specialist for a treatment?'],\n",
       "      dtype='object')"
      ]
     },
     "execution_count": 11,
     "metadata": {},
     "output_type": "execute_result"
    }
   ],
   "source": [
    "stu_df.columns"
   ]
  },
  {
   "cell_type": "code",
   "execution_count": 12,
   "id": "e63d6e45",
   "metadata": {},
   "outputs": [],
   "source": [
    "gender = stu_df['Choose your gender'].value_counts()\n"
   ]
  },
  {
   "cell_type": "code",
   "execution_count": 23,
   "id": "5c61c660",
   "metadata": {},
   "outputs": [
    {
     "data": {
      "text/plain": [
       "Female    75\n",
       "Male      26\n",
       "Name: Choose your gender, dtype: int64"
      ]
     },
     "execution_count": 23,
     "metadata": {},
     "output_type": "execute_result"
    }
   ],
   "source": [
    "gender"
   ]
  },
  {
   "cell_type": "markdown",
   "id": "85053042",
   "metadata": {},
   "source": [
    "\n",
    "## Gender"
   ]
  },
  {
   "cell_type": "code",
   "execution_count": 14,
   "id": "6d5805c4",
   "metadata": {},
   "outputs": [
    {
     "data": {
      "image/png": "[encoded data removed]",
      "text/plain": [
       "<Figure size 640x480 with 1 Axes>"
      ]
     },
     "metadata": {},
     "output_type": "display_data"
    }
   ],
   "source": [
    "plt.pie(gender, labels = ['female', 'male'],shadow=True,autopct='%1.1f%%');\n"
   ]
  },
  {
   "cell_type": "markdown",
   "id": "2761a9b0",
   "metadata": {},
   "source": [
    "*This chart shows the percentage distribution based on gender.*"
   ]
  },
  {
   "cell_type": "markdown",
   "id": "7b6e164c",
   "metadata": {},
   "source": [
    "## Age\n"
   ]
  },
  {
   "cell_type": "code",
   "execution_count": 24,
   "id": "0e03a160",
   "metadata": {},
   "outputs": [],
   "source": [
    "age=stu_df['Age'].value_counts().head(7)"
   ]
  },
  {
   "cell_type": "code",
   "execution_count": 17,
   "id": "d6d7714e",
   "metadata": {},
   "outputs": [
    {
     "data": {
      "text/plain": [
       "18.0    32\n",
       "24.0    23\n",
       "19.0    21\n",
       "23.0    13\n",
       "20.0     6\n",
       "21.0     3\n",
       "22.0     2\n",
       "Name: Age, dtype: int64"
      ]
     },
     "execution_count": 17,
     "metadata": {},
     "output_type": "execute_result"
    }
   ],
   "source": [
    "age"
   ]
  },
  {
   "cell_type": "code",
   "execution_count": 22,
   "id": "0ca4c7c7",
   "metadata": {},
   "outputs": [
    {
     "data": {
      "image/png": "[encoded data removed]",
      "text/plain": [
       "<Figure size 640x480 with 1 Axes>"
      ]
     },
     "metadata": {},
     "output_type": "display_data"
    }
   ],
   "source": [
    "ax=sns.barplot(x=age.index , y=age );\n",
    "plt.title('Age chart');\n",
    "plt.xlabel('Age');\n",
    "plt.ylabel('Count');\n",
    "for bars in ax.containers:\n",
    "    ax.bar_label(bars)\n"
   ]
  },
  {
   "cell_type": "markdown",
   "id": "ad020716",
   "metadata": {},
   "source": [
    "*This chart shows that most of the students belongs to age group 18 , 19 and 24.* "
   ]
  },
  {
   "cell_type": "markdown",
   "id": "e431fa99",
   "metadata": {},
   "source": [
    "## Marital Status"
   ]
  },
  {
   "cell_type": "code",
   "execution_count": 25,
   "id": "1fe64661",
   "metadata": {},
   "outputs": [],
   "source": [
    "marital=stu_df['Marital status'].value_counts()"
   ]
  },
  {
   "cell_type": "code",
   "execution_count": 145,
   "id": "7f86f2f3",
   "metadata": {},
   "outputs": [
    {
     "data": {
      "image/png": "[encoded data removed]",
      "text/plain": [
       "<Figure size 640x480 with 1 Axes>"
      ]
     },
     "metadata": {},
     "output_type": "display_data"
    }
   ],
   "source": [
    "plt.pie(marital , shadow =True , autopct = '%1.1f%%', labels = [' Not Married', 'Married']);"
   ]
  },
  {
   "cell_type": "markdown",
   "id": "16cad447",
   "metadata": {},
   "source": [
    "## Mental Status"
   ]
  },
  {
   "cell_type": "code",
   "execution_count": 26,
   "id": "96483896",
   "metadata": {},
   "outputs": [],
   "source": [
    "dep=stu_df['Do you have Depression?'].value_counts()"
   ]
  },
  {
   "cell_type": "code",
   "execution_count": 142,
   "id": "5bae23f6",
   "metadata": {},
   "outputs": [
    {
     "data": {
      "image/png": "[encoded data removed]",
      "text/plain": [
       "<Figure size 640x480 with 1 Axes>"
      ]
     },
     "metadata": {},
     "output_type": "display_data"
    }
   ],
   "source": [
    "plt.pie(dep , shadow =True , autopct = '%1.1f%%', labels = [' Not Depressed', 'Depressed']);"
   ]
  },
  {
   "cell_type": "code",
   "execution_count": 147,
   "id": "185dd3dc",
   "metadata": {},
   "outputs": [],
   "source": [
    "anxiety=stu_df['Do you have Anxiety?'].value_counts()"
   ]
  },
  {
   "cell_type": "code",
   "execution_count": 150,
   "id": "a4bd8245",
   "metadata": {},
   "outputs": [
    {
     "data": {
      "image/png": "[encoded data removed]",
      "text/plain": [
       "<Figure size 640x480 with 1 Axes>"
      ]
     },
     "metadata": {},
     "output_type": "display_data"
    }
   ],
   "source": [
    "plt.pie(anxiety , shadow=True,autopct='%1.1f%%',labels=['Not have anxiety','Have anxiety']);"
   ]
  },
  {
   "cell_type": "code",
   "execution_count": null,
   "id": "de145bdf",
   "metadata": {},
   "outputs": [],
   "source": []
  }
 ],
 "metadata": {
  "kernelspec": {
   "display_name": "Python 3 (ipykernel)",
   "language": "python",
   "name": "python3"
  },
  "language_info": {
   "codemirror_mode": {
    "name": "ipython",
    "version": 3
   },
   "file_extension": ".py",
   "mimetype": "text/x-python",
   "name": "python",
   "nbconvert_exporter": "python",
   "pygments_lexer": "ipython3",
   "version": "3.10.9"
  }
 },
 "nbformat": 4,
 "nbformat_minor": 5
}
